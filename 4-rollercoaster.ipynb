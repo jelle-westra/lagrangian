{
 "cells": [
  {
   "cell_type": "code",
   "execution_count": 1,
   "id": "e1633cb5",
   "metadata": {},
   "outputs": [],
   "source": [
    "from lagrangian import LagrangianSolver\n",
    "from dataclasses import dataclass\n",
    "\n",
    "import torch\n",
    "import matplotlib.pyplot as plt\n",
    "import matplotlib.animation as animation\n",
    "from IPython.display import HTML"
   ]
  },
  {
   "cell_type": "code",
   "execution_count": 2,
   "id": "35e53090",
   "metadata": {},
   "outputs": [],
   "source": [
    "plt.rcParams['axes.spines.top'] = False\n",
    "plt.rcParams['axes.spines.right'] = False\n",
    "plt.rcParams['xtick.direction'] = 'in'\n",
    "plt.rcParams['ytick.direction'] = 'in'\n",
    "\n",
    "plt.rc('font', family='serif', serif=\"cmr10\", size=18)\n",
    "plt.rc('mathtext', fontset='cm', rm='serif')\n",
    "plt.rc('axes', unicode_minus=False)\n",
    "\n",
    "plt.rcParams['axes.formatter.use_mathtext'] = True"
   ]
  },
  {
   "cell_type": "markdown",
   "id": "83540aab",
   "metadata": {},
   "source": [
    "# Roller Coaster\n",
    "\n",
    "We have $n$ carts on a track. Where some track is defined using a paramteric definition: $x(q_i)$ and $y(q_i)$, in here $q_i(t)$ is the generalized (constrained) coordinate on the track of the $i$-th cart.\n",
    "\n",
    "To find the velocities in Euclidean space we have to transform from the generalized coordinates:\n",
    "$$\n",
    "\\dot{x}_i = \\frac{dx}{dq_i}\\dot{q}_i;\\qquad\n",
    "\\dot{y}_i = \\frac{dy}{dq_i}\\dot{q}_i\n",
    "$$\n",
    "We can easily numerically compute the derivates $x'$ and $y'$ using PyTorch's autograd system. For the potential we can simply use the $y$-coordinate.\n",
    "\n",
    "This gives us the energy of the system:\n",
    "\n",
    "$$\n",
    "\\begin{cases}\n",
    "\\displaystyle\n",
    "T = \\frac{m}{2} \\sum_i (\\dot{x}_i^2 + \\dot{y}_i^2) \\\\ \\\\\n",
    "\\displaystyle\n",
    "V = mg\\sum_i y_i\n",
    "\\end{cases}\n",
    "$$\n",
    "\n",
    "And we constrain the carts to be always $R$ apart from each other:\n",
    "\n",
    "$$\n",
    "g_{i,{i+1}} = (x_i - x_{i+1})^2 + (y_i - y_{i+1})^2 - R^2 = 0\n",
    "$$\n",
    "\n",
    "Since we have $n$ carts, this means we will have $n-1$ of such links.\n",
    "\n",
    "Now the tricky part comes with building up the track, first we have a straight part that transitions into a looping. When using a piecewise definition, the transition of going from straight to looping will cause numerical instabilities which case the constraint functions to drift. \n",
    "\n",
    "To fix this, I came up with a smooth transition function using a sigmoid function (as smoothed Heaviside) to ensure continuity of the track. It smoothly transitions the linear part into the looping.\n",
    "\n",
    "You might use a spline definition of the track instead, but then you have to make sure you're able to compute the gradient w.r.t. generalized coordinate $q_i$."
   ]
  },
  {
   "cell_type": "code",
   "execution_count": 3,
   "id": "c06e056e",
   "metadata": {},
   "outputs": [],
   "source": [
    "@dataclass\n",
    "class RollerCoaster(LagrangianSolver):\n",
    "    r0: float\n",
    "    m: float        # [kg] mass\n",
    "    g: float=9.81   # [m/s]\n",
    "\n",
    "    @staticmethod\n",
    "    def mix(q): # logistic curve / sigmoid\n",
    "        return 1-1/(1 + (5*(q + torch.pi/2)).exp())\n",
    "\n",
    "    @staticmethod\n",
    "    def x(q):\n",
    "        flat = 3 * 10 * (torch.pi/2 + q)\n",
    "        loop = 10 * (torch.pi/2 + q + 1.8*torch.cos(q))\n",
    "\n",
    "        fac = RollerCoaster.mix(q)\n",
    "        return (1-fac)*flat + fac*loop\n",
    "\n",
    "    @staticmethod\n",
    "    def y(q):\n",
    "        flat = torch.zeros_like(q)\n",
    "        loop = 10 * (torch.sin(q) + 1)\n",
    "        \n",
    "        fac = RollerCoaster.mix(q)\n",
    "        return (1-fac)*flat + fac*loop\n",
    "    \n",
    "    def T(self, u: torch.Tensor) -> torch.Tensor:\n",
    "        (q, qdot) = u[1:].view(2, self.n)\n",
    "\n",
    "        dxdq = torch.autograd.functional.jacobian(self.x, q).diag()\n",
    "        dydq = torch.autograd.functional.jacobian(self.y, q).diag()\n",
    "\n",
    "        return self.m * ((dxdq**2 + dydq**2) * qdot.square()).sum() / 2\n",
    "    \n",
    "    def V(self, u: torch.Tensor) -> torch.Tensor:\n",
    "        (s, sdot) = u[1:].view(2, self.n)\n",
    "        return self.m * self.g * self.y(s).sum()\n",
    "    \n",
    "    def constraints(self, u: torch.Tensor) -> torch.Tensor:\n",
    "        (s, sdot) = u[1:].view(2, self.n)\n",
    "        r2 = self.x(s).diff().square() + self.y(s).diff().square()\n",
    "        return (r2 - self.r0**2)"
   ]
  },
  {
   "cell_type": "code",
   "execution_count": 4,
   "id": "a3ffb090",
   "metadata": {},
   "outputs": [
    {
     "name": "stderr",
     "output_type": "stream",
     "text": [
      "100%|██████████| 249/249 [00:21<00:00, 11.65it/s]\n"
     ]
    }
   ],
   "source": [
    "T = 5\n",
    "N = 50*T\n",
    "t = torch.linspace(0,T,N)\n",
    "\n",
    "u0 = torch.tensor([\n",
    "    -torch.pi + 0.4, -torch.pi + 0.3, -torch.pi + 0.2, -torch.pi + 0.1, -torch.pi,\n",
    "    2., 2., 2., 2., 2.\n",
    "], dtype=torch.float64)\n",
    "\n",
    "solver = RollerCoaster(m=200, r0=RollerCoaster.x(u0[0]) - RollerCoaster.x(u0[1]))\n",
    "soln = solver.solve(u0, t)\n",
    "u = soln['u']"
   ]
  },
  {
   "cell_type": "code",
   "execution_count": 6,
   "id": "e2663843",
   "metadata": {},
   "outputs": [
    {
     "name": "stderr",
     "output_type": "stream",
     "text": [
      "Ignoring fixed x limits to fulfill fixed data aspect with adjustable data limits.\n"
     ]
    }
   ],
   "source": [
    "s = u.T[:u0.size(0)//2].T\n",
    "\n",
    "fig, ax = plt.subplots(figsize=(10.8, 5.8))\n",
    "\n",
    "s_track = torch.linspace(-torch.pi, 2*torch.pi, 100)\n",
    "\n",
    "ax.plot(RollerCoaster.x(s_track), RollerCoaster.y(s_track), 'k--', lw=4)\n",
    "carts, = ax.plot([], [], 'C0o-', ms=16)\n",
    "ax.axis('equal')\n",
    "ax.set_xlim(-20, 80)\n",
    "\n",
    "ax.set_xlabel('$x$ / m')\n",
    "ax.set_ylabel('$y$ / m')\n",
    "\n",
    "fig.tight_layout()\n",
    "\n",
    "def animate(i):\n",
    "    idx = min(i, len(t))\n",
    "\n",
    "    carts.set_data(RollerCoaster.x(s[idx]), RollerCoaster.y(s[idx]))\n",
    "\n",
    "    return (carts,)\n",
    "\n",
    "ani = animation.FuncAnimation(fig, animate, frames=len(t), blit=True)\n",
    "\n",
    "\n",
    "plt.close()\n",
    "ani.save('./assets/roller-coaster.mp4', writer=\"ffmpeg\", fps=60, dpi=100)\n",
    "# HTML(ani.to_jshtml())"
   ]
  }
 ],
 "metadata": {
  "kernelspec": {
   "display_name": "hebo",
   "language": "python",
   "name": "python3"
  },
  "language_info": {
   "codemirror_mode": {
    "name": "ipython",
    "version": 3
   },
   "file_extension": ".py",
   "mimetype": "text/x-python",
   "name": "python",
   "nbconvert_exporter": "python",
   "pygments_lexer": "ipython3",
   "version": "3.11.11"
  }
 },
 "nbformat": 4,
 "nbformat_minor": 5
}
